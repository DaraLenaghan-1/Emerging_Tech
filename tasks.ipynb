{
 "cells": [
  {
   "cell_type": "code",
   "execution_count": 1,
   "metadata": {},
   "outputs": [
    {
     "name": "stdout",
     "output_type": "stream",
     "text": [
      "Collatz conjecture is verified for the first 10000 positive integers.\n"
     ]
    }
   ],
   "source": [
    "def collatz_sequence(n):\n",
    "    sequence = [n]\n",
    "    while n != 1:\n",
    "        if n % 2 == 0:\n",
    "            n = n // 2\n",
    "        else:\n",
    "            n = 3 * n + 1\n",
    "        sequence.append(n)\n",
    "    return sequence\n",
    "\n",
    "def verify_collatz_conjecture(limit):\n",
    "    for i in range(1, limit + 1):\n",
    "        sequence = collatz_sequence(i)\n",
    "        if sequence[-1] != 1:\n",
    "            print(f\"Collatz conjecture not satisfied for {i}\")\n",
    "            print(f\"Sequence: {sequence}\")\n",
    "            return\n",
    "    print(\"Collatz conjecture is verified for the first\", limit, \"positive integers.\")\n",
    "\n",
    "# Verify the conjecture for the first 10,000 positive integers\n",
    "verify_collatz_conjecture(10000)\n"
   ]
  },
  {
   "cell_type": "code",
   "execution_count": 2,
   "metadata": {},
   "outputs": [
    {
     "name": "stdout",
     "output_type": "stream",
     "text": [
      "The square root of 25.0 is approximately 5.00\n"
     ]
    }
   ],
   "source": [
    "def sqrt(x):\n",
    "    # Initial guess (zo) for the square root\n",
    "    z0 = x / 2.0  # You can choose any reasonable initial value\n",
    "\n",
    "    # Threshold for convergence\n",
    "    threshold = 0.01\n",
    "\n",
    "    # Iterate using Newton's method until the difference is less than the threshold\n",
    "    while True:\n",
    "        z1 = 0.5 * (z0 + x / z0)  # Newton's method formula for square root\n",
    "\n",
    "        # Check if the difference between z0 and z1 is less than the threshold\n",
    "        if abs(z1 - z0) < threshold:\n",
    "            break\n",
    "\n",
    "        # Update the guess for the next iteration\n",
    "        z0 = z1\n",
    "\n",
    "    return z1\n",
    "\n",
    "# Test the sqrt function\n",
    "x = 25.0  # Replace with the number for which you want to find the square root\n",
    "result = sqrt(x)\n",
    "print(f\"The square root of {x} is approximately {result:.2f}\")\n"
   ]
  },
  {
   "cell_type": "markdown",
   "metadata": {},
   "source": []
  }
 ],
 "metadata": {
  "kernelspec": {
   "display_name": "Python 3",
   "language": "python",
   "name": "python3"
  },
  "language_info": {
   "codemirror_mode": {
    "name": "ipython",
    "version": 3
   },
   "file_extension": ".py",
   "mimetype": "text/x-python",
   "name": "python",
   "nbconvert_exporter": "python",
   "pygments_lexer": "ipython3",
   "version": "3.11.4"
  },
  "orig_nbformat": 4
 },
 "nbformat": 4,
 "nbformat_minor": 2
}
