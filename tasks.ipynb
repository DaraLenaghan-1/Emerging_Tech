{
 "cells": [
  {
   "cell_type": "markdown",
   "metadata": {},
   "source": [
    "1. The Collatz conjecture1 is a famous unsolved problem in mathe- matics. The problem is to prove that if you start with any positive integer x and repeatedly apply the function f(x) below, you al- ways get stuck in the repeating sequence 1, 4, 2, 1, 4, 2,...\n",
    "\n",
    "For example, starting with the value 10, which is an even number, we divide it by 2 to get 5. Then 5 is an odd number so, we mul- tiply by 3 and add 1 to get 16. Then we repeatedly divide by 2 to get 8, 4, 2, 1. Once we are at 1, we go back to 4 and get stuck in the repeating sequence 4, 2, 1 as we suspected.\n",
    "Your task is to verify, using Python, that the conjecture is true for the first 10,000 positive integers."
   ]
  },
  {
   "cell_type": "code",
   "execution_count": 12,
   "metadata": {},
   "outputs": [
    {
     "name": "stdout",
     "output_type": "stream",
     "text": [
      "Collatz conjecture is verified for the first 10000 positive integers.\n"
     ]
    }
   ],
   "source": [
    "def collatz_sequence(n):\n",
    "    sequence = [n]\n",
    "    while n != 1:\n",
    "        if n % 2 == 0:\n",
    "            n = n // 2\n",
    "        else:\n",
    "            n = 3 * n + 1\n",
    "        sequence.append(n)\n",
    "    return sequence\n",
    "\n",
    "def verify_collatz_conjecture(limit):\n",
    "    for i in range(1, limit + 1):\n",
    "        sequence = collatz_sequence(i)\n",
    "        if sequence[-1] != 1:\n",
    "            print(f\"Collatz conjecture not satisfied for {i}\")\n",
    "            print(f\"Sequence: {sequence}\")\n",
    "            return\n",
    "    print(\"Collatz conjecture is verified for the first\", limit, \"positive integers.\")\n",
    "\n",
    "# Verify the conjecture for the first 10,000 positive integers\n",
    "verify_collatz_conjecture(10000)\n"
   ]
  },
  {
   "cell_type": "markdown",
   "metadata": {},
   "source": [
    "2. Square roots are difficult to calculate. In Python, you typically use the power operator (a double asterisk) or a package such as math. In this task,2 you should write a function sqrt(x) to approximate the square root of a floating point number x without using the power operator or a package.\n",
    "Rather, you should use the Newton's method.3 Start with an initial guess for the square root called zo. You then repeatedly improve it using the following formula, until the difference be- tween some previous guess z¡ and the next Z;+1 is less than some threshold, say 0.01."
   ]
  },
  {
   "cell_type": "code",
   "execution_count": 13,
   "metadata": {},
   "outputs": [
    {
     "name": "stdout",
     "output_type": "stream",
     "text": [
      "The square root of 25.0 is approximately 5.00\n"
     ]
    }
   ],
   "source": [
    "def sqrt(x):\n",
    "    # Initial guess (zo) for the square root\n",
    "    z0 = x / 2.0  # You can choose any reasonable initial value\n",
    "\n",
    "    # Threshold for convergence\n",
    "    threshold = 0.01\n",
    "\n",
    "    # Iterate using Newton's method until the difference is less than the threshold\n",
    "    while True:\n",
    "        z1 = 0.5 * (z0 + x / z0)  # Newton's method formula for square root\n",
    "\n",
    "        # Check if the difference between z0 and z1 is less than the threshold\n",
    "        if abs(z1 - z0) < threshold:\n",
    "            break\n",
    "\n",
    "        # Update the guess for the next iteration\n",
    "        z0 = z1\n",
    "\n",
    "    return z1\n",
    "\n",
    "# Test the sqrt function\n",
    "x = 25.0  # Replace with the number for which you want to find the square root\n",
    "result = sqrt(x)\n",
    "print(f\"The square root of {x} is approximately {result:.2f}\")\n"
   ]
  },
  {
   "cell_type": "markdown",
   "metadata": {},
   "source": []
  },
  {
   "cell_type": "markdown",
   "metadata": {},
   "source": [
    "3. Consider all possible functions taking four bits as input and\n",
    "outputting a single bit. How many such possible functions are\n",
    "there?\n",
    "Write Python code to select one such function at random out of all\n",
    "the possibilities. Suppose the only way you can figure out what\n",
    "the function is, is by calling it with different inputs and checking\n",
    "the outputs. How many times do you need to call the function to\n",
    "be certain which function it is?"
   ]
  },
  {
   "cell_type": "code",
   "execution_count": 14,
   "metadata": {},
   "outputs": [
    {
     "name": "stdout",
     "output_type": "stream",
     "text": [
      "Randomly selected function: <lambda>\n"
     ]
    }
   ],
   "source": [
    "import random\n",
    "\n",
    "# Counter to keep track of function calls\n",
    "call_count = 0\n",
    "\n",
    "# List of all possible functions as lambda expressions\n",
    "possible_functions = [\n",
    "    lambda a, b, c, d: a & b & c & d,\n",
    "    lambda a, b, c, d: a & b & c | d,\n",
    "    lambda a, b, c, d: a & b | c & d,\n",
    "    lambda a, b, c, d: a & b | c | d,\n",
    "    lambda a, b, c, d: a | b & c & d,\n",
    "    lambda a, b, c, d: a | b & c | d,\n",
    "    lambda a, b, c, d: a | b | c & d,\n",
    "    lambda a, b, c, d: a | b | c | d,\n",
    "    lambda a, b, c, d: a ^ b ^ c ^ d,\n",
    "    lambda a, b, c, d: a ^ b ^ c | d,\n",
    "    lambda a, b, c, d: a ^ b | c ^ d,\n",
    "    lambda a, b, c, d: a ^ b | c | d,\n",
    "    lambda a, b, c, d: a | b ^ c ^ d,\n",
    "    lambda a, b, c, d: a | b ^ c | d,\n",
    "    lambda a, b, c, d: a | b | c ^ d,\n",
    "    lambda a, b, c, d: a | b | c | d,\n",
    "]\n",
    "\n",
    "# Randomly select a function\n",
    "random_function = random.choice(possible_functions)\n",
    "\n",
    "print(\"Randomly selected function:\", random_function.__name__)\n"
   ]
  },
  {
   "cell_type": "code",
   "execution_count": 15,
   "metadata": {},
   "outputs": [
    {
     "name": "stdout",
     "output_type": "stream",
     "text": [
      "Function call 1 - Output for input (0, 0, 0, 0): 0\n",
      "Function call 2 - Output for input (0, 0, 0, 1): 0\n",
      "Function call 3 - Output for input (0, 0, 1, 0): 0\n",
      "Function call 4 - Output for input (0, 0, 1, 1): 0\n",
      "Function call 5 - Output for input (0, 1, 0, 0): 0\n",
      "Function call 6 - Output for input (0, 1, 0, 1): 0\n",
      "Function call 7 - Output for input (0, 1, 1, 0): 0\n",
      "Function call 8 - Output for input (0, 1, 1, 1): 0\n",
      "Function call 9 - Output for input (1, 0, 0, 0): 0\n",
      "Function call 10 - Output for input (1, 0, 0, 1): 0\n",
      "Function call 11 - Output for input (1, 0, 1, 0): 0\n",
      "Function call 12 - Output for input (1, 0, 1, 1): 0\n",
      "Function call 13 - Output for input (1, 1, 0, 0): 0\n",
      "Function call 14 - Output for input (1, 1, 0, 1): 0\n",
      "Function call 15 - Output for input (1, 1, 1, 0): 0\n",
      "Function call 16 - Output for input (1, 1, 1, 1): 1\n"
     ]
    }
   ],
   "source": [
    "# Test the selected function for all possible inputs\n",
    "for a in range(2):\n",
    "    for b in range(2):\n",
    "        for c in range(2):\n",
    "            for d in range(2):\n",
    "                input_bits = (a, b, c, d)\n",
    "                output = random_function(*input_bits)\n",
    "                call_count += 1  # Increment the call count\n",
    "                print(f\"Function call {call_count} - Output for input {input_bits}: {output}\")"
   ]
  },
  {
   "cell_type": "markdown",
   "metadata": {},
   "source": [
    "4. Write a function that performs matrix multiplication on two rectangular lists containing floats in Python."
   ]
  },
  {
   "cell_type": "code",
   "execution_count": 16,
   "metadata": {},
   "outputs": [
    {
     "name": "stdout",
     "output_type": "stream",
     "text": [
      "The result of matrix multiplication is:\n",
      "[4.0, 4.0]\n",
      "[10.0, 8.0]\n"
     ]
    }
   ],
   "source": [
    "def matrix_multiplication(matrix1, matrix2):\n",
    "    \"\"\"\n",
    "    Perform matrix multiplication on two rectangular lists of floats.\n",
    "\n",
    "    Args:\n",
    "    matrix1 (list of list of floats): The first matrix.\n",
    "    matrix2 (list of list of floats): The second matrix.\n",
    "\n",
    "    Returns:\n",
    "    list of list of floats: The resulting matrix after multiplication.\n",
    "    \"\"\"\n",
    "    # Number of rows and columns in the first and second matrix\n",
    "    rows_matrix1 = len(matrix1)\n",
    "    cols_matrix1 = len(matrix1[0])\n",
    "    rows_matrix2 = len(matrix2)\n",
    "    cols_matrix2 = len(matrix2[0])\n",
    "\n",
    "    # Check if multiplication is possible\n",
    "    if cols_matrix1 != rows_matrix2:\n",
    "        raise ValueError(\"Matrix multiplication not possible: Column count of the first matrix must equal the row count of the second.\")\n",
    "\n",
    "    # Initializing the result matrix with zeros\n",
    "    result = [[0 for _ in range(cols_matrix2)] for _ in range(rows_matrix1)]\n",
    "\n",
    "    # Performing matrix multiplication\n",
    "    for i in range(rows_matrix1):\n",
    "        for j in range(cols_matrix2):\n",
    "            for k in range(cols_matrix1):\n",
    "                result[i][j] += matrix1[i][k] * matrix2[k][j]\n",
    "\n",
    "    return result\n",
    "\n",
    "# Example usage\n",
    "matrix1 = [[1.0, 2.0], [3.0, 4.0]]\n",
    "matrix2 = [[2.0, 0.0], [1.0, 2.0]]\n",
    "\n",
    "# Call the matrix multiplication function and print the result\n",
    "result = matrix_multiplication(matrix1, matrix2)\n",
    "print(\"The result of matrix multiplication is:\")\n",
    "for row in result:\n",
    "    print(row)\n"
   ]
  }
 ],
 "metadata": {
  "kernelspec": {
   "display_name": "Python 3",
   "language": "python",
   "name": "python3"
  },
  "language_info": {
   "codemirror_mode": {
    "name": "ipython",
    "version": 3
   },
   "file_extension": ".py",
   "mimetype": "text/x-python",
   "name": "python",
   "nbconvert_exporter": "python",
   "pygments_lexer": "ipython3",
   "version": "3.11.0"
  },
  "orig_nbformat": 4
 },
 "nbformat": 4,
 "nbformat_minor": 2
}
